{
  "cells": [
    {
      "cell_type": "code",
      "execution_count": 184,
      "metadata": {
        "id": "vowXRstocd8F"
      },
      "outputs": [],
      "source": [
        "import matplotlib.pyplot as plt  # for making figures\n",
        "import torch\n",
        "import torch.nn.functional as F\n",
        "\n",
        "%matplotlib inline"
      ]
    },
    {
      "cell_type": "code",
      "execution_count": 185,
      "metadata": {
        "colab": {
          "base_uri": "https://localhost:8080/"
        },
        "id": "9Rlc3YeWcm_d",
        "outputId": "cb8e6290-6428-4a2d-9e78-995c6e90f5c3"
      },
      "outputs": [
        {
          "name": "stdout",
          "output_type": "stream",
          "text": [
            "zsh:1: command not found: wget\n"
          ]
        }
      ],
      "source": [
        "# download the names.txt file from github\n",
        "!wget https://raw.githubusercontent.com/karpathy/makemore/master/names.txt"
      ]
    },
    {
      "cell_type": "code",
      "execution_count": 186,
      "metadata": {
        "colab": {
          "base_uri": "https://localhost:8080/"
        },
        "id": "uH2MGP4FcidR",
        "outputId": "7a128b70-343a-493a-85f4-3e80293695be"
      },
      "outputs": [
        {
          "data": {
            "text/plain": [
              "['emma', 'olivia', 'ava', 'isabella', 'sophia', 'charlotte', 'mia', 'amelia']"
            ]
          },
          "execution_count": 186,
          "metadata": {},
          "output_type": "execute_result"
        }
      ],
      "source": [
        "words = open(\"names.txt\", \"r\").read().splitlines()\n",
        "words[:8]"
      ]
    },
    {
      "cell_type": "code",
      "execution_count": 187,
      "metadata": {
        "colab": {
          "base_uri": "https://localhost:8080/"
        },
        "id": "FbakoEqAcvnF",
        "outputId": "28507b40-8bab-4a62-d9c3-1152550ef0d4"
      },
      "outputs": [
        {
          "data": {
            "text/plain": [
              "32033"
            ]
          },
          "execution_count": 187,
          "metadata": {},
          "output_type": "execute_result"
        }
      ],
      "source": [
        "len(words)"
      ]
    },
    {
      "cell_type": "code",
      "execution_count": 188,
      "metadata": {
        "colab": {
          "base_uri": "https://localhost:8080/"
        },
        "id": "EYnXhmWVcx-l",
        "outputId": "6dcad8cf-9caf-401d-e772-c26ac8f93f39"
      },
      "outputs": [
        {
          "name": "stdout",
          "output_type": "stream",
          "text": [
            "{1: 'a', 2: 'b', 3: 'c', 4: 'd', 5: 'e', 6: 'f', 7: 'g', 8: 'h', 9: 'i', 10: 'j', 11: 'k', 12: 'l', 13: 'm', 14: 'n', 15: 'o', 16: 'p', 17: 'q', 18: 'r', 19: 's', 20: 't', 21: 'u', 22: 'v', 23: 'w', 24: 'x', 25: 'y', 26: 'z', 0: '.'}\n"
          ]
        }
      ],
      "source": [
        "# build the vocabulary of characters and mappings to/from integers\n",
        "chars = sorted(list(set(\"\".join(words))))\n",
        "stoi = {s: i + 1 for i, s in enumerate(chars)}\n",
        "stoi[\".\"] = 0\n",
        "itos = {i: s for s, i in stoi.items()}\n",
        "print(itos)"
      ]
    },
    {
      "cell_type": "code",
      "execution_count": 189,
      "metadata": {
        "colab": {
          "base_uri": "https://localhost:8080/"
        },
        "id": "MB5XgJxdczFi",
        "outputId": "ce4e48c3-b9f7-4d1d-9e9a-47c37beb326e"
      },
      "outputs": [
        {
          "name": "stdout",
          "output_type": "stream",
          "text": [
            "torch.Size([182625, 3]) torch.Size([182625])\n",
            "torch.Size([22655, 3]) torch.Size([22655])\n",
            "torch.Size([22866, 3]) torch.Size([22866])\n"
          ]
        }
      ],
      "source": [
        "# build the dataset\n",
        "block_size = 3  # context length: how many characters do we take to predict the next one?\n",
        "\n",
        "\n",
        "def build_dataset(words):\n",
        "    X, Y = [], []\n",
        "    for w in words:\n",
        "        # print(w)\n",
        "        context = [0] * block_size\n",
        "        for ch in w + \".\":\n",
        "            ix = stoi[ch]\n",
        "            X.append(context)\n",
        "            Y.append(ix)\n",
        "            # print(''.join(itos[i] for i in context), '--->', itos[ix])\n",
        "            context = context[1:] + [ix]  # crop and append\n",
        "\n",
        "    X = torch.tensor(X)\n",
        "    Y = torch.tensor(Y)\n",
        "    print(X.shape, Y.shape)\n",
        "    return X, Y\n",
        "\n",
        "\n",
        "import random\n",
        "\n",
        "random.seed(42)\n",
        "random.shuffle(words)\n",
        "n1 = int(0.8 * len(words))\n",
        "n2 = int(0.9 * len(words))\n",
        "\n",
        "Xtr, Ytr = build_dataset(words[:n1])\n",
        "Xdev, Ydev = build_dataset(words[n1:n2])\n",
        "Xte, Yte = build_dataset(words[n2:])"
      ]
    },
    {
      "cell_type": "code",
      "execution_count": 190,
      "metadata": {
        "id": "EAA0_oigc13X"
      },
      "outputs": [],
      "source": [
        "from torch import sqrt\n",
        "\n",
        "g = torch.Generator().manual_seed(2147483647)  # for reproducibility\n",
        "C = torch.ones((27, 10))\n",
        "W1 = torch.randn((30, 300), generator=g) / sqrt(torch.tensor(30))\n",
        "b1 = torch.ones(300) / sqrt(torch.tensor(30))\n",
        "W2 = torch.randn((300, 27), generator=g) / sqrt(torch.tensor(300))\n",
        "b2 = torch.ones(27) / sqrt(torch.tensor(300))\n",
        "parameters = [C, W1, b1, W2, b2]"
      ]
    },
    {
      "cell_type": "code",
      "execution_count": 191,
      "metadata": {
        "colab": {
          "base_uri": "https://localhost:8080/"
        },
        "id": "_HcVef6-c5S4",
        "outputId": "fbcc9087-e5c6-4916-ba32-45812804bea0"
      },
      "outputs": [
        {
          "data": {
            "text/plain": [
              "17697"
            ]
          },
          "execution_count": 191,
          "metadata": {},
          "output_type": "execute_result"
        }
      ],
      "source": [
        "sum(p.nelement() for p in parameters)  # number of parameters in total"
      ]
    },
    {
      "cell_type": "code",
      "execution_count": 192,
      "metadata": {
        "id": "coNBea1sc6tm"
      },
      "outputs": [],
      "source": [
        "for p in parameters:\n",
        "    p.requires_grad = True"
      ]
    },
    {
      "cell_type": "code",
      "execution_count": 193,
      "metadata": {
        "id": "nFWpAj_9c9Yr"
      },
      "outputs": [],
      "source": [
        "lre = torch.linspace(-3, 0, 1000)\n",
        "lrs = 10**lre"
      ]
    },
    {
      "cell_type": "code",
      "execution_count": 194,
      "metadata": {
        "id": "t2huuyTudBlF"
      },
      "outputs": [],
      "source": [
        "lri = []\n",
        "lossi = []\n",
        "stepi = []"
      ]
    },
    {
      "cell_type": "code",
      "execution_count": 195,
      "metadata": {
        "id": "jiKD-PPOdClh"
      },
      "outputs": [
        {
          "name": "stderr",
          "output_type": "stream",
          "text": [
            "100%|██████████| 200000/200000 [01:38<00:00, 2035.90it/s]\n"
          ]
        }
      ],
      "source": [
        "from tqdm import tqdm\n",
        "\n",
        "batch_size = 128\n",
        "\n",
        "for i in tqdm(range(200000)):\n",
        "    # minibatch construct\n",
        "    ix = torch.randint(0, Xtr.shape[0], (batch_size,))\n",
        "\n",
        "    # forward pass\n",
        "    emb = C[Xtr[ix]]  # (batch_size, 3, 2)\n",
        "    h = torch.tanh(emb.view(-1, 30) @ W1 + b1)  # (batch_size, 100)\n",
        "    logits = h @ W2 + b2  # (batch_size, 27)\n",
        "    loss = F.cross_entropy(logits, Ytr[ix])\n",
        "    # print(loss.item())\n",
        "\n",
        "    # backward pass\n",
        "    for p in parameters:\n",
        "        p.grad = None\n",
        "    loss.backward()\n",
        "\n",
        "    # update\n",
        "    # lr = lrs[i]\n",
        "    lr = 0.15 if i < 100000 else 0.015\n",
        "    for p in parameters:\n",
        "        p.data += -lr * p.grad\n",
        "\n",
        "    # track stats\n",
        "    # lri.append(lre[i])\n",
        "    stepi.append(i)\n",
        "    lossi.append(loss.log10().item())\n",
        "\n",
        "# print(loss.item())"
      ]
    },
    {
      "cell_type": "code",
      "execution_count": 196,
      "metadata": {},
      "outputs": [
        {
          "data": {
            "text/plain": [
              "tensor(0.5180)"
            ]
          },
          "execution_count": 196,
          "metadata": {},
          "output_type": "execute_result"
        }
      ],
      "source": [
        "expected_start_loss = F.cross_entropy(torch.ones((1, 27)), torch.tensor([0])).log10()\n",
        "expected_start_loss"
      ]
    },
    {
      "cell_type": "code",
      "execution_count": 197,
      "metadata": {
        "colab": {
          "base_uri": "https://localhost:8080/",
          "height": 282
        },
        "id": "ZBAYXZ_rdGIG",
        "outputId": "4da78334-f8d9-416f-9d09-64b66823372a"
      },
      "outputs": [
        {
          "data": {
            "text/plain": [
              "[<matplotlib.lines.Line2D at 0x1288cdf90>]"
            ]
          },
          "execution_count": 197,
          "metadata": {},
          "output_type": "execute_result"
        },
        {
          "data": {
            "image/png": "[encoded data removed]",
            "text/plain": [
              "<Figure size 640x480 with 1 Axes>"
            ]
          },
          "metadata": {},
          "output_type": "display_data"
        }
      ],
      "source": [
        "plt.plot(stepi, lossi)"
      ]
    },
    {
      "cell_type": "code",
      "execution_count": 198,
      "metadata": {
        "colab": {
          "base_uri": "https://localhost:8080/"
        },
        "id": "ZlhYinNgdIVF",
        "outputId": "b11e07b9-827b-416d-b70d-a206a6124598"
      },
      "outputs": [
        {
          "data": {
            "text/plain": [
              "tensor(1.9804, grad_fn=<NllLossBackward0>)"
            ]
          },
          "execution_count": 198,
          "metadata": {},
          "output_type": "execute_result"
        }
      ],
      "source": [
        "# training loss\n",
        "emb = C[Xtr]  # (32, 3, 2)\n",
        "h = torch.tanh(emb.view(-1, 30) @ W1 + b1)  # (32, 100)\n",
        "logits = h @ W2 + b2  # (32, 27)\n",
        "loss = F.cross_entropy(logits, Ytr)\n",
        "loss"
      ]
    },
    {
      "cell_type": "code",
      "execution_count": 199,
      "metadata": {
        "colab": {
          "base_uri": "https://localhost:8080/"
        },
        "id": "cJH3DDu4dLTM",
        "outputId": "d87a5a80-edcf-4fb0-9984-b9dc553521cd"
      },
      "outputs": [
        {
          "data": {
            "text/plain": [
              "tensor(2.0863, grad_fn=<NllLossBackward0>)"
            ]
          },
          "execution_count": 199,
          "metadata": {},
          "output_type": "execute_result"
        }
      ],
      "source": [
        "# validation loss\n",
        "emb = C[Xdev]  # (32, 3, 2)\n",
        "h = torch.tanh(emb.view(-1, 30) @ W1 + b1)  # (32, 100)\n",
        "logits = h @ W2 + b2  # (32, 27)\n",
        "loss = F.cross_entropy(logits, Ydev)\n",
        "loss"
      ]
    },
    {
      "cell_type": "code",
      "execution_count": 200,
      "metadata": {
        "colab": {
          "base_uri": "https://localhost:8080/"
        },
        "id": "DwOgCg1vdNhe",
        "outputId": "766db7cb-dbfd-4981-e3c1-93cfa87521f5"
      },
      "outputs": [
        {
          "data": {
            "text/plain": [
              "tensor(2.0893, grad_fn=<NllLossBackward0>)"
            ]
          },
          "execution_count": 200,
          "metadata": {},
          "output_type": "execute_result"
        }
      ],
      "source": [
        "# test loss\n",
        "emb = C[Xte]  # (32, 3, 2)\n",
        "h = torch.tanh(emb.view(-1, 30) @ W1 + b1)  # (32, 100)\n",
        "logits = h @ W2 + b2  # (32, 27)\n",
        "loss = F.cross_entropy(logits, Yte)\n",
        "loss"
      ]
    },
    {
      "cell_type": "code",
      "execution_count": 201,
      "metadata": {
        "colab": {
          "base_uri": "https://localhost:8080/",
          "height": 483
        },
        "id": "CCWLYP9GdPP4",
        "outputId": "6e2e7f56-60a1-4312-e964-7ccbfe5f3a25"
      },
      "outputs": [
        {
          "data": {
            "image/png": "[encoded data removed]",
            "text/plain": [
              "<Figure size 800x800 with 1 Axes>"
            ]
          },
          "metadata": {},
          "output_type": "display_data"
        }
      ],
      "source": [
        "# visualize dimensions 0 and 1 of the embedding matrix C for all characters\n",
        "plt.figure(figsize=(8, 8))\n",
        "plt.scatter(C[:, 0].data, C[:, 1].data, s=200)\n",
        "for i in range(C.shape[0]):\n",
        "    plt.text(C[i, 0].item(), C[i, 1].item(), itos[i], ha=\"center\", va=\"center\", color=\"white\")\n",
        "plt.grid(\"minor\")"
      ]
    },
    {
      "cell_type": "code",
      "execution_count": 202,
      "metadata": {
        "colab": {
          "base_uri": "https://localhost:8080/"
        },
        "id": "TQUMmgRrdRIA",
        "outputId": "4618124d-0820-424d-99aa-803c84d680c0"
      },
      "outputs": [
        {
          "name": "stderr",
          "output_type": "stream",
          "text": [
            "100%|██████████| 20/20 [00:00<00:00, 2967.42it/s]"
          ]
        },
        {
          "name": "stdout",
          "output_type": "stream",
          "text": [
            "carmahzaal.\n",
            "hari.\n",
            "kimri.\n",
            "reety.\n",
            "skaeson.\n",
            "jazon.\n",
            "nadeliah.\n",
            "jareen.\n",
            "nellara.\n",
            "chaiir.\n",
            "kaleigh.\n",
            "ham.\n",
            "joce.\n",
            "quintis.\n",
            "lilah.\n",
            "jadiq.\n",
            "wayell.\n",
            "dearyn.\n",
            "kai.\n",
            "evells.\n"
          ]
        },
        {
          "name": "stderr",
          "output_type": "stream",
          "text": [
            "\n"
          ]
        }
      ],
      "source": [
        "# sample from the model\n",
        "g = torch.Generator().manual_seed(2147483647 + 10)\n",
        "\n",
        "for _ in tqdm(range(20)):\n",
        "    out = []\n",
        "    context = [0] * block_size  # initialize with all ...\n",
        "    while True:\n",
        "        emb = C[torch.tensor([context])]  # (1,block_size,d)\n",
        "        h = torch.tanh(emb.view(1, -1) @ W1 + b1)\n",
        "        logits = h @ W2 + b2\n",
        "        probs = F.softmax(logits, dim=1)\n",
        "        ix = torch.multinomial(probs, num_samples=1, generator=g).item()\n",
        "        context = context[1:] + [ix]\n",
        "        out.append(ix)\n",
        "        if ix == 0:\n",
        "            break\n",
        "\n",
        "    print(\"\".join(itos[i] for i in out))"
      ]
    },
    {
      "cell_type": "code",
      "execution_count": null,
      "metadata": {
        "id": "iwENKZS7dT_5"
      },
      "outputs": [],
      "source": []
    }
  ],
  "metadata": {
    "colab": {
      "provenance": []
    },
    "kernelspec": {
      "display_name": "hw3",
      "language": "python",
      "name": "python3"
    },
    "language_info": {
      "codemirror_mode": {
        "name": "ipython",
        "version": 3
      },
      "file_extension": ".py",
      "mimetype": "text/x-python",
      "name": "python",
      "nbconvert_exporter": "python",
      "pygments_lexer": "ipython3",
      "version": "3.13.5"
    }
  },
  "nbformat": 4,
  "nbformat_minor": 0
}
